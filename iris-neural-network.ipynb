{
 "cells": [
  {
   "cell_type": "markdown",
   "metadata": {},
   "source": [
    "# Iris Neural Network"
   ]
  },
  {
   "cell_type": "code",
   "execution_count": 17,
   "metadata": {},
   "outputs": [],
   "source": [
    "# Reference links:\n",
    "#    Adapted from: https://github.com/emerging-technologies/keras-iris\n",
    "#    Data set pulled from: https://gist.github.com/curran/a08a1080b88344b0c8a7\n",
    "\n",
    "# imports and preliminaries\n",
    "import csv\n",
    "import numpy as np\n",
    "import keras as kr\n",
    "\n",
    "# Load the Iris dataset.\n",
    "iris = list(csv.reader(open('iris-data-set.csv')))[1:]"
   ]
  },
  {
   "cell_type": "markdown",
   "metadata": {},
   "source": [
    "Now that we have the data set loaded we can extrapolate the data we need into appropriate data sets in preparation for training and testing our Model"
   ]
  },
  {
   "cell_type": "code",
   "execution_count": 21,
   "metadata": {},
   "outputs": [],
   "source": [
    "# The inputs are four floats: sepal length, sepal width, petal length, petal width.\n",
    "inputs  = np.array(iris)[:,:4].astype(np.float)"
   ]
  },
  {
   "cell_type": "code",
   "execution_count": 19,
   "metadata": {},
   "outputs": [],
   "source": [
    "# Outputs are initially individual strings: setosa, versicolor or virginica.\n",
    "outputs = np.array(iris)[:,4]\n",
    "\n",
    "# Convert the output strings to ints.\n",
    "outputs_vals, outputs_ints = np.unique(outputs, return_inverse=True)\n",
    "\n",
    "# Encode the category integers as binary categorical vairables.\n",
    "outputs_cats = kr.utils.to_categorical(outputs_ints)"
   ]
  },
  {
   "cell_type": "markdown",
   "metadata": {},
   "source": [
    "We can now randomly split the data into two sets: One for training and one for evaluation"
   ]
  },
  {
   "cell_type": "code",
   "execution_count": 26,
   "metadata": {},
   "outputs": [],
   "source": [
    "# Split the input and output data sets into training and test subsets.\n",
    "inds = np.random.permutation(len(inputs))\n",
    "train_inds, test_inds = np.array_split(inds, 2)\n",
    "inputs_train, outputs_train = inputs[train_inds], outputs_cats[train_inds]\n",
    "inputs_test,  outputs_test  = inputs[test_inds],  outputs_cats[test_inds]"
   ]
  },
  {
   "cell_type": "markdown",
   "metadata": {},
   "source": [
    "We can now create a model\n",
    "\n",
    "- Notes here about sigmoid\n",
    "\n",
    "- Notes here about softmax"
   ]
  },
  {
   "cell_type": "code",
   "execution_count": 32,
   "metadata": {},
   "outputs": [],
   "source": [
    "# Create a neural network.\n",
    "model = kr.models.Sequential()\n",
    "\n",
    "# Add an initial layer with 4 input nodes, and a hidden layer with 16 nodes.\n",
    "model.add(kr.layers.Dense(16, input_shape=(4,)))\n",
    "# Apply the sigmoid activation function to that layer.\n",
    "model.add(kr.layers.Activation(\"sigmoid\"))\n",
    "# Add another layer, connected to the layer with 16 nodes, containing three output nodes.\n",
    "model.add(kr.layers.Dense(3))\n",
    "# Use the softmax activation function there.\n",
    "model.add(kr.layers.Activation(\"softmax\"))\n"
   ]
  },
  {
   "cell_type": "code",
   "execution_count": 34,
   "metadata": {},
   "outputs": [
    {
     "name": "stdout",
     "output_type": "stream",
     "text": [
      "_________________________________________________________________\n",
      "Layer (type)                 Output Shape              Param #   \n",
      "=================================================================\n",
      "dense_1 (Dense)              (None, 16)                80        \n",
      "_________________________________________________________________\n",
      "activation_1 (Activation)    (None, 16)                0         \n",
      "_________________________________________________________________\n",
      "dense_2 (Dense)              (None, 3)                 51        \n",
      "_________________________________________________________________\n",
      "activation_2 (Activation)    (None, 3)                 0         \n",
      "=================================================================\n",
      "Total params: 131\n",
      "Trainable params: 131\n",
      "Non-trainable params: 0\n",
      "_________________________________________________________________\n"
     ]
    }
   ],
   "source": [
    "# Display our Model using the summary function\n",
    "model.summary()"
   ]
  },
  {
   "cell_type": "markdown",
   "metadata": {},
   "source": [
    "## Configure the Model for training and fit the training data"
   ]
  },
  {
   "cell_type": "code",
   "execution_count": 35,
   "metadata": {},
   "outputs": [
    {
     "name": "stdout",
     "output_type": "stream",
     "text": [
      "Epoch 1/100\n",
      "75/75 [==============================] - 1s 7ms/step - loss: 1.2385 - acc: 0.3600\n",
      "Epoch 2/100\n",
      "75/75 [==============================] - 0s 3ms/step - loss: 1.1447 - acc: 0.3600\n",
      "Epoch 3/100\n",
      "75/75 [==============================] - 0s 3ms/step - loss: 1.0934 - acc: 0.3467\n",
      "Epoch 4/100\n",
      "75/75 [==============================] - 0s 3ms/step - loss: 1.0541 - acc: 0.3467\n",
      "Epoch 5/100\n",
      "75/75 [==============================] - 0s 3ms/step - loss: 1.0108 - acc: 0.3600\n",
      "Epoch 6/100\n",
      "75/75 [==============================] - 0s 3ms/step - loss: 0.9692 - acc: 0.4933\n",
      "Epoch 7/100\n",
      "75/75 [==============================] - 0s 4ms/step - loss: 0.9259 - acc: 0.6400\n",
      "Epoch 8/100\n",
      "75/75 [==============================] - 0s 4ms/step - loss: 0.8789 - acc: 0.6400\n",
      "Epoch 9/100\n",
      "75/75 [==============================] - 0s 3ms/step - loss: 0.8395 - acc: 0.6400\n",
      "Epoch 10/100\n",
      "75/75 [==============================] - 0s 4ms/step - loss: 0.7969 - acc: 0.6933\n",
      "Epoch 11/100\n",
      "75/75 [==============================] - 0s 3ms/step - loss: 0.7555 - acc: 0.6400\n",
      "Epoch 12/100\n",
      "75/75 [==============================] - 0s 3ms/step - loss: 0.7223 - acc: 0.7333\n",
      "Epoch 13/100\n",
      "75/75 [==============================] - 0s 3ms/step - loss: 0.6879 - acc: 0.8000\n",
      "Epoch 14/100\n",
      "75/75 [==============================] - 0s 3ms/step - loss: 0.6565 - acc: 0.7467\n",
      "Epoch 15/100\n",
      "75/75 [==============================] - 0s 3ms/step - loss: 0.6299 - acc: 0.8400\n",
      "Epoch 16/100\n",
      "75/75 [==============================] - 0s 3ms/step - loss: 0.6055 - acc: 0.7467\n",
      "Epoch 17/100\n",
      "75/75 [==============================] - 0s 4ms/step - loss: 0.5868 - acc: 0.8000\n",
      "Epoch 18/100\n",
      "75/75 [==============================] - 0s 3ms/step - loss: 0.5633 - acc: 0.9467\n",
      "Epoch 19/100\n",
      "75/75 [==============================] - 0s 3ms/step - loss: 0.5486 - acc: 0.9467\n",
      "Epoch 20/100\n",
      "75/75 [==============================] - 0s 3ms/step - loss: 0.5309 - acc: 0.8933\n",
      "Epoch 21/100\n",
      "75/75 [==============================] - 0s 3ms/step - loss: 0.5202 - acc: 0.8533\n",
      "Epoch 22/100\n",
      "75/75 [==============================] - 0s 3ms/step - loss: 0.5054 - acc: 0.9867\n",
      "Epoch 23/100\n",
      "75/75 [==============================] - 0s 3ms/step - loss: 0.4931 - acc: 0.9733\n",
      "Epoch 24/100\n",
      "75/75 [==============================] - 0s 3ms/step - loss: 0.4819 - acc: 0.9733\n",
      "Epoch 25/100\n",
      "75/75 [==============================] - 0s 3ms/step - loss: 0.4719 - acc: 0.9867\n",
      "Epoch 26/100\n",
      "75/75 [==============================] - 0s 3ms/step - loss: 0.4664 - acc: 0.9600\n",
      "Epoch 27/100\n",
      "75/75 [==============================] - 0s 4ms/step - loss: 0.4556 - acc: 0.9467\n",
      "Epoch 28/100\n",
      "75/75 [==============================] - 0s 3ms/step - loss: 0.4449 - acc: 0.9867\n",
      "Epoch 29/100\n",
      "75/75 [==============================] - 0s 3ms/step - loss: 0.4344 - acc: 0.9867\n",
      "Epoch 30/100\n",
      "75/75 [==============================] - 0s 3ms/step - loss: 0.4283 - acc: 0.9867\n",
      "Epoch 31/100\n",
      "75/75 [==============================] - 0s 3ms/step - loss: 0.4207 - acc: 0.9333\n",
      "Epoch 32/100\n",
      "75/75 [==============================] - 0s 4ms/step - loss: 0.4154 - acc: 0.9600\n",
      "Epoch 33/100\n",
      "75/75 [==============================] - 0s 3ms/step - loss: 0.4071 - acc: 0.9467\n",
      "Epoch 34/100\n",
      "75/75 [==============================] - 0s 3ms/step - loss: 0.3942 - acc: 0.9733\n",
      "Epoch 35/100\n",
      "75/75 [==============================] - 0s 3ms/step - loss: 0.3859 - acc: 0.9867\n",
      "Epoch 36/100\n",
      "75/75 [==============================] - 0s 3ms/step - loss: 0.3803 - acc: 0.9733\n",
      "Epoch 37/100\n",
      "75/75 [==============================] - 0s 4ms/step - loss: 0.3716 - acc: 0.9733\n",
      "Epoch 38/100\n",
      "75/75 [==============================] - 0s 4ms/step - loss: 0.3640 - acc: 0.9733\n",
      "Epoch 39/100\n",
      "75/75 [==============================] - 0s 4ms/step - loss: 0.3592 - acc: 0.9600\n",
      "Epoch 40/100\n",
      "75/75 [==============================] - 0s 3ms/step - loss: 0.3513 - acc: 0.9733\n",
      "Epoch 41/100\n",
      "75/75 [==============================] - 0s 3ms/step - loss: 0.3411 - acc: 0.9733\n",
      "Epoch 42/100\n",
      "75/75 [==============================] - 0s 3ms/step - loss: 0.3349 - acc: 1.0000\n",
      "Epoch 43/100\n",
      "75/75 [==============================] - 0s 3ms/step - loss: 0.3274 - acc: 0.9867\n",
      "Epoch 44/100\n",
      "75/75 [==============================] - 0s 3ms/step - loss: 0.3217 - acc: 1.0000\n",
      "Epoch 45/100\n",
      "75/75 [==============================] - 0s 3ms/step - loss: 0.3152 - acc: 0.9733\n",
      "Epoch 46/100\n",
      "75/75 [==============================] - 0s 3ms/step - loss: 0.3065 - acc: 0.9867\n",
      "Epoch 47/100\n",
      "75/75 [==============================] - 0s 3ms/step - loss: 0.3008 - acc: 0.9867\n",
      "Epoch 48/100\n",
      "75/75 [==============================] - 0s 3ms/step - loss: 0.2948 - acc: 0.9733\n",
      "Epoch 49/100\n",
      "75/75 [==============================] - 0s 3ms/step - loss: 0.2913 - acc: 0.9733\n",
      "Epoch 50/100\n",
      "75/75 [==============================] - 0s 3ms/step - loss: 0.2824 - acc: 0.9733\n",
      "Epoch 51/100\n",
      "75/75 [==============================] - 0s 3ms/step - loss: 0.2767 - acc: 0.9733\n",
      "Epoch 52/100\n",
      "75/75 [==============================] - 0s 3ms/step - loss: 0.2741 - acc: 0.9733\n",
      "Epoch 53/100\n",
      "75/75 [==============================] - 0s 4ms/step - loss: 0.2665 - acc: 0.9733\n",
      "Epoch 54/100\n",
      "75/75 [==============================] - 0s 3ms/step - loss: 0.2609 - acc: 0.9733\n",
      "Epoch 55/100\n",
      "75/75 [==============================] - 0s 2ms/step - loss: 0.2564 - acc: 0.9867\n",
      "Epoch 56/100\n",
      "75/75 [==============================] - 0s 3ms/step - loss: 0.2496 - acc: 0.9867\n",
      "Epoch 57/100\n",
      "75/75 [==============================] - 0s 3ms/step - loss: 0.2458 - acc: 0.9733\n",
      "Epoch 58/100\n",
      "75/75 [==============================] - 0s 3ms/step - loss: 0.2430 - acc: 0.9733\n",
      "Epoch 59/100\n",
      "75/75 [==============================] - 0s 3ms/step - loss: 0.2378 - acc: 0.9867\n",
      "Epoch 60/100\n",
      "75/75 [==============================] - 0s 3ms/step - loss: 0.2339 - acc: 0.9733\n",
      "Epoch 61/100\n",
      "75/75 [==============================] - 0s 3ms/step - loss: 0.2281 - acc: 0.9733\n",
      "Epoch 62/100\n",
      "75/75 [==============================] - 0s 4ms/step - loss: 0.2211 - acc: 0.9733\n",
      "Epoch 63/100\n",
      "75/75 [==============================] - 0s 3ms/step - loss: 0.2196 - acc: 0.9867\n",
      "Epoch 64/100\n",
      "75/75 [==============================] - 0s 4ms/step - loss: 0.2149 - acc: 0.9733\n",
      "Epoch 65/100\n",
      "75/75 [==============================] - 0s 3ms/step - loss: 0.2097 - acc: 0.9867\n",
      "Epoch 66/100\n",
      "75/75 [==============================] - 0s 3ms/step - loss: 0.2052 - acc: 0.9600\n",
      "Epoch 67/100\n",
      "75/75 [==============================] - 0s 3ms/step - loss: 0.2012 - acc: 0.9733\n",
      "Epoch 68/100\n",
      "75/75 [==============================] - 0s 3ms/step - loss: 0.1963 - acc: 0.9733\n",
      "Epoch 69/100\n",
      "75/75 [==============================] - 0s 3ms/step - loss: 0.1980 - acc: 0.9600\n",
      "Epoch 70/100\n",
      "75/75 [==============================] - 0s 2ms/step - loss: 0.1932 - acc: 0.9733\n",
      "Epoch 71/100\n",
      "75/75 [==============================] - 0s 3ms/step - loss: 0.1869 - acc: 0.9867\n",
      "Epoch 72/100\n",
      "75/75 [==============================] - 0s 3ms/step - loss: 0.1859 - acc: 0.9733\n",
      "Epoch 73/100\n",
      "75/75 [==============================] - 0s 4ms/step - loss: 0.1829 - acc: 0.9733\n",
      "Epoch 74/100\n",
      "75/75 [==============================] - 0s 3ms/step - loss: 0.1789 - acc: 0.9733\n",
      "Epoch 75/100\n",
      "75/75 [==============================] - 0s 3ms/step - loss: 0.1771 - acc: 0.9733\n",
      "Epoch 76/100\n",
      "75/75 [==============================] - 0s 3ms/step - loss: 0.1730 - acc: 0.9867\n",
      "Epoch 77/100\n",
      "75/75 [==============================] - 0s 3ms/step - loss: 0.1689 - acc: 0.9733\n",
      "Epoch 78/100\n",
      "75/75 [==============================] - 0s 3ms/step - loss: 0.1655 - acc: 0.9867\n",
      "Epoch 79/100\n",
      "75/75 [==============================] - 0s 3ms/step - loss: 0.1634 - acc: 0.9733\n",
      "Epoch 80/100\n",
      "75/75 [==============================] - 0s 3ms/step - loss: 0.1684 - acc: 0.9600\n",
      "Epoch 81/100\n",
      "75/75 [==============================] - 0s 3ms/step - loss: 0.1614 - acc: 0.9733\n",
      "Epoch 82/100\n",
      "75/75 [==============================] - 0s 3ms/step - loss: 0.1557 - acc: 0.9733\n",
      "Epoch 83/100\n",
      "75/75 [==============================] - 0s 3ms/step - loss: 0.1529 - acc: 0.9733\n",
      "Epoch 84/100\n",
      "75/75 [==============================] - 0s 2ms/step - loss: 0.1537 - acc: 0.9867\n",
      "Epoch 85/100\n",
      "75/75 [==============================] - 0s 3ms/step - loss: 0.1500 - acc: 0.9733\n",
      "Epoch 86/100\n",
      "75/75 [==============================] - 0s 3ms/step - loss: 0.1467 - acc: 0.9733\n",
      "Epoch 87/100\n"
     ]
    },
    {
     "name": "stdout",
     "output_type": "stream",
     "text": [
      "75/75 [==============================] - 0s 3ms/step - loss: 0.1436 - acc: 0.9733\n",
      "Epoch 88/100\n",
      "75/75 [==============================] - 0s 3ms/step - loss: 0.1418 - acc: 0.9733\n",
      "Epoch 89/100\n",
      "75/75 [==============================] - 0s 3ms/step - loss: 0.1397 - acc: 0.9733\n",
      "Epoch 90/100\n",
      "75/75 [==============================] - 0s 3ms/step - loss: 0.1373 - acc: 0.9733\n",
      "Epoch 91/100\n",
      "75/75 [==============================] - 0s 3ms/step - loss: 0.1359 - acc: 0.9733\n",
      "Epoch 92/100\n",
      "75/75 [==============================] - 0s 3ms/step - loss: 0.1363 - acc: 0.9733\n",
      "Epoch 93/100\n",
      "75/75 [==============================] - 0s 3ms/step - loss: 0.1331 - acc: 0.9733\n",
      "Epoch 94/100\n",
      "75/75 [==============================] - 0s 3ms/step - loss: 0.1304 - acc: 0.9733\n",
      "Epoch 95/100\n",
      "75/75 [==============================] - 0s 3ms/step - loss: 0.1321 - acc: 0.9733\n",
      "Epoch 96/100\n",
      "75/75 [==============================] - 0s 3ms/step - loss: 0.1261 - acc: 0.9733\n",
      "Epoch 97/100\n",
      "75/75 [==============================] - 0s 3ms/step - loss: 0.1253 - acc: 0.9733\n",
      "Epoch 98/100\n",
      "75/75 [==============================] - 0s 3ms/step - loss: 0.1241 - acc: 0.9733\n",
      "Epoch 99/100\n",
      "75/75 [==============================] - 0s 3ms/step - loss: 0.1228 - acc: 0.9733\n",
      "Epoch 100/100\n",
      "75/75 [==============================] - 0s 3ms/step - loss: 0.1213 - acc: 0.9733\n"
     ]
    },
    {
     "data": {
      "text/plain": [
       "<keras.callbacks.History at 0x115c5ecc0>"
      ]
     },
     "execution_count": 35,
     "metadata": {},
     "output_type": "execute_result"
    }
   ],
   "source": [
    "# Configure the model for training.\n",
    "# Uses the adam optimizer and categorical cross entropy as the loss function.\n",
    "# Add in some extra metrics - accuracy being the only one.\n",
    "model.compile(optimizer=\"adam\", loss=\"categorical_crossentropy\", metrics=[\"accuracy\"])\n",
    "\n",
    "# Fit the model using our training data.\n",
    "model.fit(inputs_train, outputs_train, epochs=100, batch_size=1, verbose=1)"
   ]
  },
  {
   "cell_type": "markdown",
   "metadata": {},
   "source": [
    "## Evaluate the Loss and Accuracy of the Model"
   ]
  },
  {
   "cell_type": "code",
   "execution_count": 36,
   "metadata": {},
   "outputs": [
    {
     "name": "stdout",
     "output_type": "stream",
     "text": [
      "75/75 [==============================] - 0s 228us/step\n",
      "\n",
      "\n",
      "Loss: 0.1291\tAccuracy: 0.9600\n"
     ]
    }
   ],
   "source": [
    "# Evaluate the model using the test data set.\n",
    "loss, accuracy = model.evaluate(inputs_test, outputs_test, verbose=1)\n",
    "\n",
    "# Output the accuracy of the model.\n",
    "print(\"\\n\\nLoss: %6.4f\\tAccuracy: %6.4f\" % (loss, accuracy))"
   ]
  },
  {
   "cell_type": "code",
   "execution_count": null,
   "metadata": {},
   "outputs": [],
   "source": []
  }
 ],
 "metadata": {
  "kernelspec": {
   "display_name": "Python 3",
   "language": "python",
   "name": "python3"
  },
  "language_info": {
   "codemirror_mode": {
    "name": "ipython",
    "version": 3
   },
   "file_extension": ".py",
   "mimetype": "text/x-python",
   "name": "python",
   "nbconvert_exporter": "python",
   "pygments_lexer": "ipython3",
   "version": "3.6.1"
  }
 },
 "nbformat": 4,
 "nbformat_minor": 2
}
